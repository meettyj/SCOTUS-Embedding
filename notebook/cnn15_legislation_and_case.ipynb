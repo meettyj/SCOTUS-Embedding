{
 "cells": [
  {
   "cell_type": "code",
   "execution_count": 1,
   "metadata": {},
   "outputs": [
    {
     "name": "stderr",
     "output_type": "stream",
     "text": [
      "Using TensorFlow backend.\n"
     ]
    }
   ],
   "source": [
    "from __future__ import print_function\n",
    "\n",
    "import argparse\n",
    "import os\n",
    "import sys\n",
    "import numpy as np\n",
    "from textacy.datasets.supreme_court import SupremeCourt\n",
    "from keras.preprocessing.text import Tokenizer\n",
    "from keras.preprocessing.sequence import pad_sequences\n",
    "from keras.utils import to_categorical\n",
    "from sklearn.model_selection import train_test_split\n",
    "from time import gmtime, strftime\n",
    "import pickle\n",
    "\n",
    "import torch\n",
    "import torch.nn as nn\n",
    "import torch.nn.functional as F\n",
    "import torch.optim as optim\n",
    "from torch.utils import data"
   ]
  },
  {
   "cell_type": "code",
   "execution_count": 15,
   "metadata": {},
   "outputs": [
    {
     "name": "stdout",
     "output_type": "stream",
     "text": [
      "which device are we in:  cuda:0\n"
     ]
    }
   ],
   "source": [
    "model_checkPoint_path = '../ModelCheckpoint/cnn15_leg_and_case/'\n",
    "model_checkPoint_file_name = 'cnn15_leg_and_case'\n",
    "EPOCH_NUM = 100\n",
    "VALIDATION_SPLIT = 0.1\n",
    "BATCH_SIZE = 32\n",
    "MAX_NB_WORDS = 170000\n",
    "EMBEDDING_DIM = 300\n",
    "learning_rate = 1e-4\n",
    "\n",
    "device = torch.device(\"cuda:0\" if torch.cuda.is_available() else \"cpu\")\n",
    "print('which device are we in: ', device) # cuda:0 means we do have a gpu\n",
    "# create saved path\n",
    "if not os.path.exists(model_checkPoint_path):\n",
    "    os.makedirs(model_checkPoint_path)"
   ]
  },
  {
   "cell_type": "code",
   "execution_count": 3,
   "metadata": {
    "scrolled": true
   },
   "outputs": [
    {
     "name": "stdout",
     "output_type": "stream",
     "text": [
      "Indexing word vectors ...\n",
      "Found 3000000 word vectors.\n"
     ]
    }
   ],
   "source": [
    "# load pre-trained embedding\n",
    "print('Indexing word vectors ...')\n",
    "embeddings_index = {}\n",
    "embedding_path = '../data/GoogleNews-vectors-negative300.txt'\n",
    "# f = file_io.FileIO('../data/GoogleNews-vectors-negative300.txt', mode='r')\n",
    "with open(embedding_path, 'r') as f:\n",
    "    for line in f:\n",
    "        values = line.split()\n",
    "        word = values[0]\n",
    "        coefs = np.asarray(values[1:], dtype='float32')\n",
    "        embeddings_index[word] = coefs\n",
    "# f.close()\n",
    "print('Found %s word vectors.' % len(embeddings_index))\n"
   ]
  },
  {
   "cell_type": "code",
   "execution_count": 17,
   "metadata": {},
   "outputs": [],
   "source": [
    "def get_record_caseName_and_citeID(feature_record):\n",
    "    # process case name\n",
    "    case_name_record = feature_record['case_name']\n",
    "    if case_name_record == None:\n",
    "        print('We do find a None in case_name')\n",
    "    if '@' in case_name_record:\n",
    "        print('We do find a @')\n",
    "        \n",
    "    # process cite id\n",
    "    cite_id_record = feature_record['us_cite_id']\n",
    "    if cite_id_record == None:\n",
    "        cite_id_record = 'None'\n",
    "    if '@' in cite_id_record:\n",
    "        print('We do find a @')\n",
    "    \n",
    "    # prepare for the dictionary key\n",
    "    output_dict_key = case_name_record+'@'+cite_id_record\n",
    "    return output_dict_key\n",
    "\n",
    "# Read from the saved mapping file\n",
    "def get_caseName_and_citeID_to_savedID_dict():\n",
    "    saved_mapping_path = '/misc/grice1/yijun/SCOTUS-Embedding/data/'\n",
    "    saved_mapping_file_name = 'caseName_and_citeID_to_savedID.txt'\n",
    "\n",
    "    # read the saved mapping file\n",
    "    with open(saved_mapping_path + saved_mapping_file_name, 'r') as f:\n",
    "        read_list = f.read().split('\\n')[:-1]\n",
    "\n",
    "    print(type(read_list))\n",
    "    print('length of read_list: ', len(read_list))\n",
    "\n",
    "    # build a dict to map case from 8K dateset to the file name\n",
    "    read_dict = {}\n",
    "    for line in read_list:\n",
    "        case_name, cite_id, file_name = line.split('@')\n",
    "        key = case_name + '@' + cite_id\n",
    "        read_dict[key] = file_name\n",
    "        \n",
    "    return read_dict\n"
   ]
  },
  {
   "cell_type": "code",
   "execution_count": null,
   "metadata": {},
   "outputs": [],
   "source": [
    "path_UWash_leg_and_case = '/misc/grice1/meyers/appellate_courts/UWash_scotus_output/'\n",
    "def replace_leg_and_case(file_id, text):\n",
    "    leg_file = path_UWash_leg_and_case + file_id + '.legislation10'\n",
    "    case_file = path_UWash_leg_and_case + file_id + '.case10'\n",
    "    \n",
    "    # here ...\n",
    "    \n",
    "    # case file\n",
    "    with open(temp_case_file, 'r') as case_file_reader:\n",
    "        text = case_file_reader.read()\n",
    "        tree = ET.fromstring(\"<root>\" + text + \"</root>\")  # deal with multiple root node\n",
    "        tree = ET.ElementTree(tree)\n",
    "\n",
    "        root = tree.getroot()\n",
    "        for child in root:\n",
    "            if child.tag == 'citation':\n",
    "                temp_attrib = child.attrib\n",
    "                print(temp_attrib)\n",
    "                temp_start = temp_attrib['start']\n",
    "                temp_end = temp_attrib['end']\n",
    "                print(temp_start)\n",
    "                print(temp_end)\n",
    "    \n",
    "    \n",
    "    \n",
    "    \n",
    "    \n",
    "    return processed text"
   ]
  },
  {
   "cell_type": "code",
   "execution_count": 18,
   "metadata": {},
   "outputs": [
    {
     "name": "stdout",
     "output_type": "stream",
     "text": [
      "Processing text dataset\n",
      "{'name': 'supreme_court', 'site_url': 'http://caselaw.findlaw.com/court/us-supreme-court', 'description': 'Collection of ~8.4k decisions issued by the U.S. Supreme Court between November 1946 and June 2016.'}\n",
      "<class 'list'>\n",
      "length of read_list:  8419\n",
      "0000\n",
      "Found 1 texts.\n",
      "Found 15 labels.\n"
     ]
    }
   ],
   "source": [
    "print('Processing text dataset')\n",
    "\n",
    "sc = SupremeCourt()\n",
    "print(sc.info)\n",
    "\n",
    "texts = []  # list of text samples\n",
    "labels_index = {}  # dictionary mapping label name to numeric id\n",
    "labels = []  # list of label ids\n",
    "\n",
    "issue_codes = list(sc.issue_area_codes.keys()) # 15 labels\n",
    "issue_codes.sort()\n",
    "issue_codes = [str(ic) for ic in issue_codes]\n",
    "\n",
    "labels_index = dict(zip(issue_codes, np.arange(len(issue_codes))))\n",
    "\n",
    "# get mapping dict between UWash dataset and local file name (id)\n",
    "caseName_and_citeID_to_savedID_dict = get_caseName_and_citeID_to_savedID_dict()\n",
    "\n",
    "for record in sc.records():\n",
    "    text_record = record[0]\n",
    "    feature_record = record[1]\n",
    "    \n",
    "    if feature_record['issue'] == None: # some cases have None as an issue\n",
    "        labels.append(labels_index['-1'])\n",
    "    else:\n",
    "        labels.append(labels_index[feature_record['issue'][:-4]])\n",
    "    \n",
    "    # process citation: legislation and case\n",
    "    \n",
    "    # get file id\n",
    "    dict_key = get_record_caseName_and_citeID(feature_record)\n",
    "    file_id = caseName_and_citeID_to_savedID_dict[dict_key]\n",
    "    \n",
    "    # process citation: legislation and case\n",
    "    \n",
    "    \n",
    "    \n",
    "    texts.append(text_record)\n",
    "    \n",
    "    break\n",
    "\n",
    "print('Found %s texts.' % len(texts))\n",
    "print('Found %s labels.' % len(labels_index))"
   ]
  },
  {
   "cell_type": "code",
   "execution_count": 5,
   "metadata": {},
   "outputs": [
    {
     "name": "stdout",
     "output_type": "stream",
     "text": [
      "Found 173087 unique tokens.\n",
      "Shape of padded_data ndarray: (8419, 90018)\n",
      "Shape of label ndarray: (8419, 15)\n"
     ]
    }
   ],
   "source": [
    "# vectorize the text samples into a 2D integer tensor\n",
    "tokenizer = Tokenizer(num_words=MAX_NB_WORDS, filters='!\"#$%&()*+,-./:;<=>?@[\\\\]^_`{|}~\\t\\n',)\n",
    "tokenizer.fit_on_texts(texts)\n",
    "sequences = tokenizer.texts_to_sequences(texts)\n",
    "\n",
    "word_index = tokenizer.word_index\n",
    "print('Found %s unique tokens.' % len(word_index))\n",
    "\n",
    "# with tf.device('/gpu:0'):\n",
    "padded_data = pad_sequences(sequences)\n",
    "\n",
    "MAX_SEQUENCE_LENGTH = padded_data.shape[1]\n",
    "\n",
    "labels = to_categorical(np.asarray(labels))\n",
    "    \n",
    "print('Shape of padded_data ndarray:', padded_data.shape)\n",
    "print('Shape of label ndarray:', labels.shape)"
   ]
  },
  {
   "cell_type": "code",
   "execution_count": 6,
   "metadata": {},
   "outputs": [],
   "source": [
    "# prepare embedding matrix -> tensor\n",
    "num_words = min(MAX_NB_WORDS, len(word_index))\n",
    "embedding_matrix = np.zeros((num_words, EMBEDDING_DIM))\n",
    "for word, i in word_index.items():\n",
    "    if i >= MAX_NB_WORDS:\n",
    "        continue\n",
    "    embedding_vector = embeddings_index.get(word)\n",
    "    if embedding_vector is not None:\n",
    "        # words not found in embedding index will be all-zeros.\n",
    "        embedding_matrix[i] = embedding_vector"
   ]
  },
  {
   "cell_type": "code",
   "execution_count": 7,
   "metadata": {},
   "outputs": [],
   "source": [
    "# split the data into a training set and a validation set\n",
    "x_train_ndarray, x_test_ndarray, y_train_ndarray, y_test_ndarray = train_test_split(padded_data, labels, test_size=VALIDATION_SPLIT, random_state=42)\n",
    "x_train_ndarray, x_val_ndarray, y_train_ndarray, y_val_ndarray = train_test_split(x_train_ndarray, y_train_ndarray, test_size=VALIDATION_SPLIT, random_state=42)\n",
    "\n",
    "# to tensor and to gpu\n",
    "x_train = torch.from_numpy(x_train_ndarray).to(device, dtype=torch.long)\n",
    "# x_train = x_train.unsqueeze(1)\n",
    "y_train = torch.from_numpy(y_train_ndarray).to(device, dtype=torch.long)\n",
    "\n",
    "x_val = torch.from_numpy(x_val_ndarray).to(device, dtype=torch.long)\n",
    "# x_val = x_val.unsqueeze(1)\n",
    "y_val = torch.from_numpy(y_val_ndarray).to(device, dtype=torch.long)\n",
    "\n",
    "x_test = torch.from_numpy(x_test_ndarray).to(device, dtype=torch.long)\n",
    "# x_test = x_test.unsqueeze(1)\n",
    "y_test = torch.from_numpy(y_test_ndarray).to(device, dtype=torch.long)"
   ]
  },
  {
   "cell_type": "code",
   "execution_count": 8,
   "metadata": {},
   "outputs": [],
   "source": [
    "# Dataloader\n",
    "dataset_train = data.TensorDataset(x_train,y_train)\n",
    "dataloader_train = data.DataLoader(dataset_train, batch_size=4, shuffle=True)\n",
    "dataset_val = data.TensorDataset(x_val,y_val)\n",
    "dataloader_val = data.DataLoader(dataset_val, batch_size=4, shuffle=False)\n",
    "dataset_test = data.TensorDataset(x_test,y_test)\n",
    "dataloader_test = data.DataLoader(dataset_test, batch_size=4, shuffle=False)"
   ]
  },
  {
   "cell_type": "code",
   "execution_count": 9,
   "metadata": {},
   "outputs": [
    {
     "name": "stdout",
     "output_type": "stream",
     "text": [
      "torch.Size([4, 90018])\n",
      "torch.Size([4, 15])\n"
     ]
    }
   ],
   "source": [
    "dataiter_temp = iter(dataloader_train)\n",
    "images_temp, labels_temp = dataiter_temp.next()\n",
    "# images_temp = images_temp.unsqueeze(1)\n",
    "print(images_temp.size())\n",
    "print(labels_temp.size())"
   ]
  },
  {
   "cell_type": "markdown",
   "metadata": {},
   "source": [
    "### Model"
   ]
  },
  {
   "cell_type": "code",
   "execution_count": 10,
   "metadata": {},
   "outputs": [],
   "source": [
    "class Net(nn.Module):\n",
    "    def __init__(self):\n",
    "        super(Net, self).__init__()\n",
    "        \n",
    "        self.embedding = nn.Embedding(num_words, EMBEDDING_DIM)\n",
    "        self.embedding.weight = nn.Parameter(torch.from_numpy(embedding_matrix).float())\n",
    "        self.embedding.weight.requires_grad = False\n",
    "        \n",
    "        self.conv_module = nn.Sequential(\n",
    "            \n",
    "            nn.Conv1d(300,128,5),\n",
    "            nn.ReLU(),\n",
    "            nn.MaxPool1d(5),\n",
    "            nn.Dropout(0.25),\n",
    "            \n",
    "            nn.Conv1d(128,128,5),\n",
    "            nn.ReLU(),\n",
    "            nn.MaxPool1d(5),\n",
    "            nn.Dropout(0.25),\n",
    "            \n",
    "            nn.Conv1d(128,128,5),\n",
    "            nn.ReLU(),\n",
    "#             nn.MaxPool1d(128),\n",
    "            nn.Dropout(0.5),\n",
    "                \n",
    "        )\n",
    "        \n",
    "        self.dense_module = nn.Sequential(\n",
    "            nn.Linear(128, 128),\n",
    "#             nn.Dropout(0.5),\n",
    "            nn.Linear(128, len(labels_index)),\n",
    "#             nn.Softmax()\n",
    "        )\n",
    "\n",
    "#         self.conv1 = nn.Conv2d(3, 6, 5)\n",
    "#         self.pool = nn.MaxPool2d(2, 2)\n",
    "#         self.conv2 = nn.Conv2d(6, 16, 5)\n",
    "#         self.fc1 = nn.Linear(16 * 5 * 5, 120)\n",
    "#         self.fc2 = nn.Linear(120, 84)\n",
    "#         self.fc3 = nn.Linear(84, 10)\n",
    "\n",
    "    def forward(self, x):\n",
    "        x = self.embedding(x)\n",
    "        x = x.permute(0, 2, 1)\n",
    "        \n",
    "        x = self.conv_module(x)\n",
    "#         print('after conv: ', x.size())\n",
    "        x, _  = torch.max(x, 2) # global max pooling\n",
    "#         print('after max: ', x.size())\n",
    "        x = self.dense_module(x)\n",
    "        \n",
    "#         x = self.pool(F.relu(self.conv1(x)))\n",
    "#         x = self.pool(F.relu(self.conv2(x)))\n",
    "#         x = x.view(-1, 16 * 5 * 5)\n",
    "#         x = F.relu(self.fc1(x))\n",
    "#         x = F.relu(self.fc2(x))\n",
    "#         x = self.fc3(x)\n",
    "        return x"
   ]
  },
  {
   "cell_type": "code",
   "execution_count": 11,
   "metadata": {},
   "outputs": [],
   "source": [
    "model = Net().to(device)\n",
    "\n",
    "# loss and optimizer\n",
    "criterion = nn.CrossEntropyLoss()\n",
    "optimizer = optim.Adam(model.parameters(), lr=learning_rate)"
   ]
  },
  {
   "cell_type": "code",
   "execution_count": 12,
   "metadata": {},
   "outputs": [
    {
     "data": {
      "text/plain": [
       "Net(\n",
       "  (embedding): Embedding(170000, 300)\n",
       "  (conv_module): Sequential(\n",
       "    (0): Conv1d(300, 128, kernel_size=(5,), stride=(1,))\n",
       "    (1): ReLU()\n",
       "    (2): MaxPool1d(kernel_size=5, stride=5, padding=0, dilation=1, ceil_mode=False)\n",
       "    (3): Dropout(p=0.25, inplace=False)\n",
       "    (4): Conv1d(128, 128, kernel_size=(5,), stride=(1,))\n",
       "    (5): ReLU()\n",
       "    (6): MaxPool1d(kernel_size=5, stride=5, padding=0, dilation=1, ceil_mode=False)\n",
       "    (7): Dropout(p=0.25, inplace=False)\n",
       "    (8): Conv1d(128, 128, kernel_size=(5,), stride=(1,))\n",
       "    (9): ReLU()\n",
       "    (10): Dropout(p=0.5, inplace=False)\n",
       "  )\n",
       "  (dense_module): Sequential(\n",
       "    (0): Linear(in_features=128, out_features=128, bias=True)\n",
       "    (1): Linear(in_features=128, out_features=15, bias=True)\n",
       "  )\n",
       ")"
      ]
     },
     "execution_count": 12,
     "metadata": {},
     "output_type": "execute_result"
    }
   ],
   "source": [
    "model"
   ]
  },
  {
   "cell_type": "code",
   "execution_count": 13,
   "metadata": {},
   "outputs": [],
   "source": [
    "def get_accuracy(model, dataloader):\n",
    "    correct = 0\n",
    "    total = 0\n",
    "    model.eval()\n",
    "    for data in dataloader:\n",
    "        images, labels = data\n",
    "        outputs = model(images)\n",
    "        _, outputs = torch.max(outputs, 1) # get the class index\n",
    "        _, labels = torch.max(labels, 1)\n",
    "\n",
    "        total += labels.size(0)\n",
    "        correct += (outputs == labels).sum().item()\n",
    "    accuracy = 100 * correct / total\n",
    "    return accuracy\n",
    "\n",
    "def save_model(model, epoch, best):\n",
    "    if best == False:\n",
    "        torch.save(model.state_dict(), \n",
    "                   model_checkPoint_path+model_checkPoint_file_name+'_epoch.pth')\n",
    "    else:\n",
    "        torch.save(model.state_dict(), \n",
    "                   model_checkPoint_path+model_checkPoint_file_name+'_best.pth')\n",
    "    print('Model saved. Epoch: %d, Best: %r' % (epoch, best))\n",
    "    return epoch"
   ]
  },
  {
   "cell_type": "code",
   "execution_count": 14,
   "metadata": {
    "scrolled": false
   },
   "outputs": [
    {
     "name": "stdout",
     "output_type": "stream",
     "text": [
      "[1,   400] loss: 0.436\n",
      "[1,   800] loss: 0.391\n",
      "[1,  1200] loss: 0.362\n",
      "[1,  1600] loss: 0.347\n",
      "-------------- Evaluating --------------\n",
      "Evaluation Accuracy: 43.139842 %\n",
      "Model saved. Epoch: 0, Best: True\n",
      "Model saved. Epoch: 0, Best: False\n"
     ]
    },
    {
     "name": "stderr",
     "output_type": "stream",
     "text": [
      "ERROR:root:Internal Python error in the inspect module.\n",
      "Below is the traceback from this internal error.\n",
      "\n"
     ]
    },
    {
     "name": "stdout",
     "output_type": "stream",
     "text": [
      "Traceback (most recent call last):\n",
      "  File \"/misc/grice1/yijun/miniconda3/envs/yijun/lib/python3.6/site-packages/IPython/core/interactiveshell.py\", line 3319, in run_code\n",
      "    exec(code_obj, self.user_global_ns, self.user_ns)\n",
      "  File \"<ipython-input-14-2ccde77c8004>\", line 30, in <module>\n",
      "    running_loss += loss.item()\n",
      "KeyboardInterrupt\n",
      "\n",
      "During handling of the above exception, another exception occurred:\n",
      "\n",
      "Traceback (most recent call last):\n",
      "  File \"/misc/grice1/yijun/miniconda3/envs/yijun/lib/python3.6/site-packages/IPython/core/interactiveshell.py\", line 2034, in showtraceback\n",
      "    stb = value._render_traceback_()\n",
      "AttributeError: 'KeyboardInterrupt' object has no attribute '_render_traceback_'\n",
      "\n",
      "During handling of the above exception, another exception occurred:\n",
      "\n",
      "Traceback (most recent call last):\n",
      "  File \"/misc/grice1/yijun/miniconda3/envs/yijun/lib/python3.6/site-packages/IPython/core/ultratb.py\", line 1101, in get_records\n",
      "    return _fixed_getinnerframes(etb, number_of_lines_of_context, tb_offset)\n",
      "  File \"/misc/grice1/yijun/miniconda3/envs/yijun/lib/python3.6/site-packages/IPython/core/ultratb.py\", line 319, in wrapped\n",
      "    return f(*args, **kwargs)\n",
      "  File \"/misc/grice1/yijun/miniconda3/envs/yijun/lib/python3.6/site-packages/IPython/core/ultratb.py\", line 353, in _fixed_getinnerframes\n",
      "    records = fix_frame_records_filenames(inspect.getinnerframes(etb, context))\n",
      "  File \"/misc/grice1/yijun/miniconda3/envs/yijun/lib/python3.6/inspect.py\", line 1490, in getinnerframes\n",
      "    frameinfo = (tb.tb_frame,) + getframeinfo(tb, context)\n",
      "  File \"/misc/grice1/yijun/miniconda3/envs/yijun/lib/python3.6/inspect.py\", line 1448, in getframeinfo\n",
      "    filename = getsourcefile(frame) or getfile(frame)\n",
      "  File \"/misc/grice1/yijun/miniconda3/envs/yijun/lib/python3.6/inspect.py\", line 696, in getsourcefile\n",
      "    if getattr(getmodule(object, filename), '__loader__', None) is not None:\n",
      "  File \"/misc/grice1/yijun/miniconda3/envs/yijun/lib/python3.6/inspect.py\", line 733, in getmodule\n",
      "    if ismodule(module) and hasattr(module, '__file__'):\n",
      "  File \"/misc/grice1/yijun/miniconda3/envs/yijun/lib/python3.6/site-packages/tensorflow/__init__.py\", line 50, in __getattr__\n",
      "    module = self._load()\n",
      "  File \"/misc/grice1/yijun/miniconda3/envs/yijun/lib/python3.6/site-packages/tensorflow/__init__.py\", line 44, in _load\n",
      "    module = _importlib.import_module(self.__name__)\n",
      "  File \"/misc/grice1/yijun/miniconda3/envs/yijun/lib/python3.6/importlib/__init__.py\", line 126, in import_module\n",
      "    return _bootstrap._gcd_import(name[level:], package, level)\n",
      "  File \"<frozen importlib._bootstrap>\", line 994, in _gcd_import\n",
      "  File \"<frozen importlib._bootstrap>\", line 971, in _find_and_load\n",
      "  File \"<frozen importlib._bootstrap>\", line 955, in _find_and_load_unlocked\n",
      "  File \"<frozen importlib._bootstrap>\", line 665, in _load_unlocked\n",
      "  File \"<frozen importlib._bootstrap_external>\", line 678, in exec_module\n",
      "  File \"<frozen importlib._bootstrap>\", line 219, in _call_with_frames_removed\n",
      "  File \"/misc/grice1/yijun/miniconda3/envs/yijun/lib/python3.6/site-packages/tensorflow_core/contrib/__init__.py\", line 40, in <module>\n",
      "    from tensorflow.contrib import constrained_optimization\n",
      "  File \"/misc/grice1/yijun/miniconda3/envs/yijun/lib/python3.6/site-packages/tensorflow_core/contrib/constrained_optimization/__init__.py\", line 22, in <module>\n",
      "    from tensorflow.contrib.constrained_optimization.python.candidates import *\n",
      "  File \"/misc/grice1/yijun/miniconda3/envs/yijun/lib/python3.6/site-packages/tensorflow_core/contrib/constrained_optimization/__init__.py\", line 26, in <module>\n",
      "    from tensorflow.contrib.constrained_optimization.python.swap_regret_optimizer import *\n",
      "  File \"/misc/grice1/yijun/miniconda3/envs/yijun/lib/python3.6/site-packages/tensorflow_core/contrib/constrained_optimization/python/swap_regret_optimizer.py\", line 221, in <module>\n",
      "    class _SwapRegretOptimizer(constrained_optimizer.ConstrainedOptimizer):\n",
      "  File \"/misc/grice1/yijun/miniconda3/envs/yijun/lib/python3.6/abc.py\", line 145, in __new__\n",
      "    cls._abc_registry = WeakSet()\n",
      "  File \"/misc/grice1/yijun/miniconda3/envs/yijun/lib/python3.6/_weakrefset.py\", line 48, in __init__\n",
      "    self._iterating = set()\n",
      "KeyboardInterrupt\n"
     ]
    },
    {
     "ename": "KeyboardInterrupt",
     "evalue": "",
     "output_type": "error",
     "traceback": [
      "\u001b[0;31m---------------------------------------------------------------------------\u001b[0m"
     ]
    }
   ],
   "source": [
    "best_accuracy_val = 0\n",
    "epochs_of_best_models_list = []\n",
    "\n",
    "for epoch in range(EPOCH_NUM):  # loop over the dataset multiple times\n",
    "    \n",
    "    # train\n",
    "    running_loss = 0.0\n",
    "    for i, data_train in enumerate(dataloader_train, 0):\n",
    "        model.train()\n",
    "        # get the inputs; data is a list of [inputs, labels]\n",
    "        inputs_train, labels_train = data_train\n",
    "#         print(inputs_train.size())\n",
    "#         print(labels_train.size())\n",
    "        \n",
    "        # zero the parameter gradients\n",
    "        optimizer.zero_grad()\n",
    "\n",
    "        # forward + backward + optimize\n",
    "        outputs_train = model(inputs_train)\n",
    "#         print(outputs_train.size())\n",
    "#         print(labels_train.size())\n",
    "#         print(torch.max(labels_train, 1)[1])\n",
    "#         print('outputs_train: ', outputs_train)\n",
    "        \n",
    "        loss = criterion(outputs_train, torch.max(labels_train, 1)[1])\n",
    "        loss.backward()\n",
    "        optimizer.step()\n",
    "\n",
    "        # print statistics\n",
    "        running_loss += loss.item()\n",
    "        if (i+1) % 400 == 0:    # print every 400 mini-batches\n",
    "            print('[%d, %5d] loss: %.3f' %\n",
    "                  (epoch + 1, i + 1, running_loss / 2000))\n",
    "            running_loss = 0.0\n",
    "    \n",
    "    # validation\n",
    "    if epoch % 1 == 0: # may change if needed\n",
    "        print('-------------- Evaluating --------------')\n",
    "        accuracy_val = get_accuracy(model, dataloader_val)\n",
    "        print('Evaluation Accuracy: %f %%' % (accuracy_val))      \n",
    "        if accuracy_val > best_accuracy_val:\n",
    "            best_accuracy_val = accuracy_val\n",
    "            epoch_of_best_model = save_model(model, epoch, best=True)\n",
    "            epochs_of_best_models_list.append(epoch_of_best_model)\n",
    "        if epoch % 5 == 0: # save the model every 5 epochs.\n",
    "            save_model(model, epoch, best=False)\n",
    "        \n",
    "print('Finished Training')\n",
    "print('epochs_of_best_models_list (latest last): ', epochs_of_best_models_list)\n"
   ]
  },
  {
   "cell_type": "code",
   "execution_count": null,
   "metadata": {},
   "outputs": [],
   "source": [
    "print('-------------- testing --------------')\n",
    "# load best model\n",
    "best_model = Net().to(device)\n",
    "best_model.load_state_dict(torch.load(model_checkPoint_path+model_checkPoint_file_name+'_best.pth', \n",
    "                                      map_location=device))\n",
    "accuracy_test = get_accuracy(best_model, dataloader_test)\n",
    "print('Testing Accuracy: %f %%' % (accuracy_test))"
   ]
  },
  {
   "cell_type": "code",
   "execution_count": null,
   "metadata": {},
   "outputs": [],
   "source": []
  },
  {
   "cell_type": "code",
   "execution_count": null,
   "metadata": {},
   "outputs": [],
   "source": []
  }
 ],
 "metadata": {
  "celltoolbar": "Raw Cell Format",
  "kernelspec": {
   "display_name": "Python 3",
   "language": "python",
   "name": "python3"
  },
  "language_info": {
   "codemirror_mode": {
    "name": "ipython",
    "version": 3
   },
   "file_extension": ".py",
   "mimetype": "text/x-python",
   "name": "python",
   "nbconvert_exporter": "python",
   "pygments_lexer": "ipython3",
   "version": "3.6.9"
  }
 },
 "nbformat": 4,
 "nbformat_minor": 2
}
