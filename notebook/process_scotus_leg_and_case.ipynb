{
 "cells": [
  {
   "cell_type": "code",
   "execution_count": 4,
   "metadata": {},
   "outputs": [],
   "source": [
    "import os\n",
    "import xml.etree.ElementTree as ET\n"
   ]
  },
  {
   "cell_type": "code",
   "execution_count": 2,
   "metadata": {},
   "outputs": [],
   "source": [
    "citation_file_path = '../data/scotus_leg_and_case10/'"
   ]
  },
  {
   "cell_type": "code",
   "execution_count": 13,
   "metadata": {},
   "outputs": [
    {
     "name": "stdout",
     "output_type": "stream",
     "text": [
      "{'id': '133447_1', 'entry_type': 'standard_case', 'start': '0', 'end': '12', 'reporter': 'U.S.', 'standard_reporter': 'U.S.', 'volume': '540', 'page_number': '976', 'line': '1'}\n",
      "0\n",
      "12\n",
      "{'id': '133447_3', 'entry_type': 'case_X_vs_Y', 'start': '17', 'end': '44', 'party1': 'SANFILIPPO', 'party2': 'UNITED STATES', 'line': '1'}\n",
      "17\n",
      "44\n",
      "{'id': '133447_15', 'entry_type': 'standard_case', 'start': '233', 'end': '250', 'reporter': 'Fed. Appx.', 'standard_reporter': 'FED.APPX.', 'volume': '73', 'page_number': '388', 'line': '3'}\n",
      "233\n",
      "250\n"
     ]
    }
   ],
   "source": [
    "# corresponding citation files in 8K dataset\n",
    "global_id_to_id_dict = {'10500': '133447', '20150': '104736', '10120': '89080', '20130': '88345', '10430': '136930', '10400': '127836', '40070': '97948', '30130': '127505', '10130': '114494', '50040': '94688', '30170': '87118', '30010': '141491', '10170': '100657', '10080': '143965', '20060': '91200', '10600': '107433', '10480': '134166', '20250': '125596', '10360': '101252', '10050': '97992', '10370': '124685', '20310': '88078', '20240': '123618', '10090': '103562', '10190': '110494', '20110': '87320', '20040': '109551', '10280': '122455', '10010': '105872', '20050': '99626', '10410': '92272', '30020': '104882', '40010': '107088', '30180': '140375', '10550': '94036', '10220': '141655', '10020': '98266', '10340': '91217', '40020': '114076', '40060': '141462', '20220': '100235', '20120': '142020', '10110': '105120', '20030': '123390', '20350': '140922', '20140': '130466', '10330': '85260', '20280': '2803251', '30150': '84831', '10290': '122873', '10530': '127664', '10060': '91749', '60030': '97679', '30120': '129145', '30200': '100740', '40040': '104342', '30060': '126884', '20390': '89091', '10490': '116259', '30160': '125085', '10580': '122365', '20270': '88405', '30100': '1087820', '20400': '119058', '10160': '1993300', '30070': '109657', '30090': '98099', '10350': '135919', '10570': '94685', '10460': '108691', '20010': '125762', '30030': '106701', '50010': '105817', '20160': '1209983', '30110': '2157', '10030': '130485', '20230': '109512', '60040': '133024', '10450': '137581', '10420': '134667', '30190': '141729', '10210': '90427', '40050': '1087965', '10200': '121073', '10470': '103569', '20370': '133750', '10390': '103447', '30140': '115389', '20320': '117611', '30050': '123968', '60010': '93750', '10300': '95916', '10380': '96868', '10260': '118822', '20080': '132212', '30080': '119203', '20090': '139196', '10140': '132503', '40030': '125582', '20260': '132239', '10270': '86813', '10040': '84851', '10590': '117191', '20020': '132101', '20170': '95624', '10100': '144226', '30040': '107983', '10150': '135704', '10310': '95448', '20200': '127743', '10250': '117606', '20190': '144762', '10540': '124041', '20330': '127562', '20180': '145023', '20100': '125987', '10320': '126243', '20340': '107005', '60020': '139004', '50020': '118640', '20300': '124865', '10440': '100437', '10070': '135127', '10230': '134759', '10510': '2381794', '20070': '117703', '10240': '111585', '20290': '102954', '10180': '136210', '20210': '144870', '20410': '94265', '10560': '126587', '50030': '107393', '20360': '107990', '10520': '135365'}\n",
    "\n",
    "for global_id, citation_id in global_id_to_id_dict.items():\n",
    "    temp_case_file = citation_file_path + citation_id + '.case10'\n",
    "    \n",
    "    # case file\n",
    "    with open(temp_case_file, 'r') as case_file_reader:\n",
    "        text = case_file_reader.read()\n",
    "        tree = ET.fromstring(\"<root>\" + text + \"</root>\")  # deal with multiple root node\n",
    "        tree = ET.ElementTree(tree)\n",
    "\n",
    "        root = tree.getroot()\n",
    "        for child in root:\n",
    "            if child.tag == 'citation':\n",
    "                temp_attrib = child.attrib\n",
    "                print(temp_attrib)\n",
    "                temp_start = temp_attrib['start']\n",
    "                temp_end = temp_attrib['end']\n",
    "                print(temp_start)\n",
    "                print(temp_end)\n",
    "                \n",
    "                # need to include Supremecourt() to see if the text share same offset\n",
    "                \n",
    "                \n",
    "                \n",
    "    \n",
    "    # legislation file\n",
    "    \n",
    "    \n",
    "    break"
   ]
  },
  {
   "cell_type": "code",
   "execution_count": null,
   "metadata": {},
   "outputs": [],
   "source": []
  },
  {
   "cell_type": "code",
   "execution_count": null,
   "metadata": {},
   "outputs": [],
   "source": []
  },
  {
   "cell_type": "code",
   "execution_count": null,
   "metadata": {},
   "outputs": [],
   "source": []
  },
  {
   "cell_type": "code",
   "execution_count": null,
   "metadata": {},
   "outputs": [],
   "source": []
  }
 ],
 "metadata": {
  "kernelspec": {
   "display_name": "Python 3",
   "language": "python",
   "name": "python3"
  },
  "language_info": {
   "codemirror_mode": {
    "name": "ipython",
    "version": 3
   },
   "file_extension": ".py",
   "mimetype": "text/x-python",
   "name": "python",
   "nbconvert_exporter": "python",
   "pygments_lexer": "ipython3",
   "version": "3.6.9"
  }
 },
 "nbformat": 4,
 "nbformat_minor": 2
}
